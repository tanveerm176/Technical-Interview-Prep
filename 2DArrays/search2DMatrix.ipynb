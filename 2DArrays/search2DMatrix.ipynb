{
 "cells": [
  {
   "cell_type": "markdown",
   "metadata": {},
   "source": [
    "Bonus Problem\n",
    "\n",
    "https://docs.google.com/presentation/d/1vHlIrRUGP_vULkBIYllMzTVJotXKCmTCY9JxOwe8WlQ/edit#slide=id.g22d827c8a41_0_229\n",
    "\n",
    "https://leetcode.com/problems/search-a-2d-matrix/description/\n",
    "\n",
    "https://guides.codepath.org/compsci/Search-a-2D-Matrix\n"
   ]
  },
  {
   "cell_type": "code",
   "execution_count": null,
   "metadata": {},
   "outputs": [],
   "source": []
  }
 ],
 "metadata": {
  "language_info": {
   "name": "python"
  }
 },
 "nbformat": 4,
 "nbformat_minor": 2
}
