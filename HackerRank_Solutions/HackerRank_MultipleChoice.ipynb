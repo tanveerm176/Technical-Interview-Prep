{
 "cells": [
  {
   "cell_type": "markdown",
   "metadata": {},
   "source": [
    "## Hackerrank Mutliple Choice Questions and Answers"
   ]
  },
  {
   "cell_type": "markdown",
   "metadata": {},
   "source": [
    "### Hackerrank Week #1 "
   ]
  },
  {
   "cell_type": "markdown",
   "metadata": {},
   "source": [
    "\n",
    "**Question 4**\n",
    "\n",
    "> Consider the following code snippet    \n",
    "\n",
    "    int a = 1\n",
    "    while (a < n){\n",
    "        a = a * 2\n",
    "    }\n",
    "\n",
    "> What is the time complexity of the code snippet?\n",
    "> * Answer: 0(log2n)\n",
    "> * Explanation: Task is reducing exponentially by an order of 2\n",
    "***"
   ]
  },
  {
   "cell_type": "markdown",
   "metadata": {},
   "source": [
    "\n",
    "**Question 5**\n",
    "\n",
    "\n",
    "> By examining the recursion tree for computing  fibonacci , we can deduce\n",
    "an exponential  O(2^n)  complexity, with potential for speedups by using ___\n",
    "> * Answer: Memoization\n",
    "***"
   ]
  },
  {
   "cell_type": "markdown",
   "metadata": {},
   "source": [
    "\n",
    "**Question 6 FINISH LATER**\n",
    "\n",
    "> Memoize this code snippet:\n",
    "> A message containing letters from  A-Z  can be encoded into numbers using the following mapping:\n",
    "> - 'A' -> '1'\n",
    "> - 'B' -> '2'\n",
    "> - 'Z' -> '26'\n",
    "\n",
    "> To decode an encoded message, all the digits must be grouped then mapped back into letters using the\n",
    "reverse of the mapping above (there may be multiple ways). For example,  \"11106\"  can be mapped into:\n",
    "\n",
    "> What is the time complexity of the code snippet?\n",
    "> * Answer: 0(log2n)\n",
    "> * Explanation: Task is reducing exponentially by an order of 2\n",
    "***"
   ]
  },
  {
   "cell_type": "markdown",
   "metadata": {},
   "source": []
  }
 ],
 "metadata": {
  "language_info": {
   "name": "python"
  }
 },
 "nbformat": 4,
 "nbformat_minor": 2
}
