{
 "cells": [
  {
   "cell_type": "markdown",
   "metadata": {},
   "source": [
    "## Binary Search \n",
    "\n",
    "- Searching for a value in a sorted array can take worst case **O(n)** time, since the entire array may need to be iterated through to find the value\n",
    "- With Binary Search we can reduce that time complexity to **O(log(n))** time by discarding half of our array at every step\n",
    "- This technique relies on the use of 3 pointers: Left, Middle Right. \n",
    "- The left pointer is indexed at the **start** of the array, the right pointer is indexed at the **end**, \n",
    "and finally the middle pointer is indexed at **(Left + Right) / 2**\n",
    "\n",
    "**IMPORTANT**\n",
    "    - Binary Search will only work on sorted arrays\n"
   ]
  },
  {
   "cell_type": "code",
   "execution_count": null,
   "metadata": {},
   "outputs": [],
   "source": [
    "# Binary Search Pseudocode: \n",
    "#   find the index of the target value, \n",
    "#   return -1 if it does not exist in the array\n",
    "\n",
    "# while left <= right:\n",
    "#     middle = (left + right) // 2\n",
    "#     if array[middle] < target:\n",
    "#         move left to middle + 1\n",
    "#     elif array[middle] > target:\n",
    "#         move right to middle - 1\n",
    "    \n",
    "#     else (array[middle] == target):\n",
    "#         return middle\n",
    "    \n",
    "# return - 1"
   ]
  },
  {
   "cell_type": "code",
   "execution_count": 4,
   "metadata": {},
   "outputs": [],
   "source": [
    "def binarySearch(nums, target):\n",
    "    left = 0\n",
    "    right  = len(nums) - 1\n",
    "    \n",
    "    while left <= right:\n",
    "        print(f'Left Value: {nums[left]}')\n",
    "        print(f'Right Value: {nums[right]}')\n",
    "        \n",
    "        middle = (left + right) // 2\n",
    "        value = nums[middle]\n",
    "        print(f'Middle Value: {value}')\n",
    "        \n",
    "        if value < target:\n",
    "            left = middle + 1\n",
    "        \n",
    "        elif value > target:\n",
    "            right = middle - 1\n",
    "        \n",
    "        else:\n",
    "            return middle\n",
    "        \n",
    "        \n",
    "    return -1 \n",
    "    "
   ]
  },
  {
   "cell_type": "code",
   "execution_count": 5,
   "metadata": {},
   "outputs": [
    {
     "name": "stdout",
     "output_type": "stream",
     "text": [
      "Left Value: 1\n",
      "Right Value: 32\n",
      "Middle Value: 9\n",
      "Left Value: 11\n",
      "Right Value: 32\n",
      "Middle Value: 23\n",
      "Left Value: 11\n",
      "Right Value: 22\n",
      "Middle Value: 11\n",
      "Left Value: 22\n",
      "Right Value: 22\n",
      "Middle Value: 22\n",
      "Index of target (22) found at: 7\n"
     ]
    }
   ],
   "source": [
    "nums = [1,2,4,5,8,9,11,22,23,28,32]\n",
    "target = 22\n",
    "\n",
    "print(f'Index of target ({target}) found at: {binarySearch(nums, target)}')"
   ]
  },
  {
   "cell_type": "code",
   "execution_count": null,
   "metadata": {},
   "outputs": [],
   "source": []
  }
 ],
 "metadata": {
  "kernelspec": {
   "display_name": "Python 3",
   "language": "python",
   "name": "python3"
  },
  "language_info": {
   "codemirror_mode": {
    "name": "ipython",
    "version": 3
   },
   "file_extension": ".py",
   "mimetype": "text/x-python",
   "name": "python",
   "nbconvert_exporter": "python",
   "pygments_lexer": "ipython3",
   "version": "3.12.4"
  }
 },
 "nbformat": 4,
 "nbformat_minor": 2
}
